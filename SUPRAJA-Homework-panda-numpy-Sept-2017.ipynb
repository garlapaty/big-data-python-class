{
 "cells": [
  {
   "cell_type": "markdown",
   "metadata": {},
   "source": [
    "# Homework 3  - Tryout pandas and numpy\n",
    "\n",
    "Copy this notebook. Rename it as: YOURNAME-Homework-panda-numpy-Sept-2017\n",
    "\n",
    "with your name replacing yourname and  replaced with the date you submit or to the last part.\n",
    "\n",
    "Do the homeworks problems below.\n",
    "\n",
    "Upload your completed jupyter notebook to your github site and send me the url via the elearning site as your homework submission. Please note that you need to do your own 3.4, and 3.5 if you share data and analysis from others then you cannot get more than a 3.  "
   ]
  },
  {
   "cell_type": "markdown",
   "metadata": {},
   "source": [
    "## Homework 3.1\n",
    "\n",
    "### 3.1.a\n",
    "Load the data from: http://opendata.dc.gov/datasets that I have include in this github   \n",
    "into a dataframe.  ( The file has been is available in directory ./data/ccp_current_csv.csv )"
   ]
  },
  {
   "cell_type": "code",
   "execution_count": 27,
   "metadata": {},
   "outputs": [
    {
     "name": "stdout",
     "output_type": "stream",
     "text": [
      "                 STREET QUADRANT            FROMINTERSECTION  \\\n",
      "0               13th St       NW                  Kennedy St   \n",
      "1                  S St       NW            North Capitol St   \n",
      "2      Rhode Island Ave       NE            Brentwood Rd (W)   \n",
      "3               Mill Rd       NW                     27th St   \n",
      "4      Rhode Island Ave       NE            Brentwood Rd (M)   \n",
      "5             Mellon St       SE                      5th St   \n",
      "6          Nebraska Ave       NW              Northampton St   \n",
      "7           Military Rd       NW                     30th St   \n",
      "8          Nebraska Ave       NW                   Oliver St   \n",
      "9               16th St       NW                  Alaska Ave   \n",
      "10         Shoemaker St       NW                 Linnean Ave   \n",
      "11         Underwood St       NW             Piney Branch Rd   \n",
      "12             Elder St       NW                      7th St   \n",
      "13              26th St       NW              Northampton St   \n",
      "14               4th St       NW              Madison St (N)   \n",
      "15         Underwood Pl       NW            North Capitol St   \n",
      "16              20th St       NW                 Columbia Rd   \n",
      "17          Quintana Pl       NE                      3rd St   \n",
      "18         Tuckerman St       NE                  Kansas Ave   \n",
      "19              Eads St       NE                     45th St   \n",
      "20               4th St       SE                  Newcomb St   \n",
      "21              Belt Rd       NW                  Jenifer St   \n",
      "22            Oneida St       NE           New Hampshire Ave   \n",
      "23      Carrollsburg Pl       SW                        O St   \n",
      "24              23rd St       NW          Washington Cir (N)   \n",
      "25           Kanawha St       NW                    Utah Ave   \n",
      "26      Piney Branch Rd       NW                Underwood St   \n",
      "27              30th St       NW               Stephenson Pl   \n",
      "28              32nd St       NW                 Woodland Dr   \n",
      "29              33rd St       NW            Broad Branch Ter   \n",
      "..                  ...      ...                         ...   \n",
      "435      New Jersey Ave       NW                        F St   \n",
      "436             15th St       NE                     Ames Pl   \n",
      "437     East Capitol St       BN                        C St   \n",
      "438         Randolph St       NE                     25th Pl   \n",
      "439    South Dakota Ave       NE                Delafield St   \n",
      "440          Wheeler Rd       SE                 Congress St   \n",
      "441      New Jersey Ave       NW                        H St   \n",
      "442     Mount Olivet Rd       NE               Brentwood Pky   \n",
      "443              Oak St       NW                     16th St   \n",
      "444        Michigan Ave       NE                     14th St   \n",
      "445                C St       NE                     20th St   \n",
      "446        Virginia Ave       SE                  6th St (S)   \n",
      "447              Oak St       NW                Brown St (N)   \n",
      "448         Florida Ave       NE                New York Ave   \n",
      "449  North Carolina Ave       NE         East Capitol St (E)   \n",
      "450            Elder St       NW                      8th St   \n",
      "451          Benning Rd       SE                        G St   \n",
      "452           School St       SW                      4th St   \n",
      "453             18th St       NW                        M St   \n",
      "454       Longfellow St       NW                     16th St   \n",
      "455             10th St       NW                        M St   \n",
      "456          Woodley Rd       NW             Connecticut Ave   \n",
      "457          Woodley Rd       NW           Cathedral Ave (E)   \n",
      "458              3rd St       SW            Independence Ave   \n",
      "459             16th St       NW                 Primrose Rd   \n",
      "460          Woodley Rd       NW                  Woodley Pl   \n",
      "461         Western Ave       NW         Chevy Chase Cir (E)   \n",
      "462             49th St       NW                   Fulton St   \n",
      "463       Quackenbos St       NE           New Hampshire Ave   \n",
      "464    North Capitol St       BN  Hawaii Ave  Rock Creek Chu   \n",
      "\n",
      "                 TOINTERSECTION  NOOFBLOCKS                 WORKDESCRIPTION  \\\n",
      "0                 Longfellow St           1  Pavement Resurface/restoration   \n",
      "1                        3rd St           3                   Regular Cover   \n",
      "2              Brentwood Rd (M)           1  Pavement Resurface/restoration   \n",
      "3                    Cul De Sac           1  Pavement Resurface/restoration   \n",
      "4    14th St  Evarts St  Montan           2  Pavement Resurface/restoration   \n",
      "5     Martin Luther King Jr Ave           1  Pavement Resurface/restoration   \n",
      "6                     Oliver St           1  Pavement Resurface/restoration   \n",
      "7               Broad Branch Rd           4  Pavement Resurface/restoration   \n",
      "8                      Utah Ave           1  Pavement Resurface/restoration   \n",
      "9                   Primrose Rd          13                  Reconstruction   \n",
      "10                    Tilden St           1                       Upgrading   \n",
      "11              Georgia Ave (S)           1                  Reconstruction   \n",
      "12                       8th St           1                   Regular Cover   \n",
      "13               Rittenhouse St           1                   Regular Cover   \n",
      "14                   Peabody St           5                   Regular Cover   \n",
      "15                       1st St           1  Pavement Resurface/restoration   \n",
      "16                  Wyoming Ave           1  Pavement Resurface/restoration   \n",
      "17                  Eastern Ave           1  Pavement Resurface/restoration   \n",
      "18                  Eastern Ave           1                  Reconstruction   \n",
      "19                      47th St           1  Pavement Resurface/restoration   \n",
      "20                    Orange St           2  Pavement Resurface/restoration   \n",
      "21                  Military Rd           1                  Reconstruction   \n",
      "22                       6th St           2                   Regular Cover   \n",
      "23                         P St           1  Pavement Resurface/restoration   \n",
      "24                         M St           2  Pavement Resurface/restoration   \n",
      "25                      30th St           2                  Reconstruction   \n",
      "26                   Venable Pl           2  Pavement Resurface/restoration   \n",
      "27                  Tennyson St           1                   Regular Cover   \n",
      "28                Cleveland Ave           1                   Regular Cover   \n",
      "29                  Linnean Ter           1                   Regular Cover   \n",
      "..                          ...         ...                             ...   \n",
      "435                        G St           2  Pavement Resurface/restoration   \n",
      "436            Constitution Ave           1  Pavement Resurface/restoration   \n",
      "437           Anacostia Fwy (E)           2  Pavement Resurface/restoration   \n",
      "438                     26th St           1  Pavement Resurface/restoration   \n",
      "439                    Riggs Rd          10         Federal Aid Resurfacing   \n",
      "440                 Congress St           0             Traffic Signal Work   \n",
      "441                        I St           1  Pavement Resurface/restoration   \n",
      "442           West Virginia Ave           5  Pavement Resurface/restoration   \n",
      "443                Brown St (S)           1  Pavement Resurface/restoration   \n",
      "444                     16th St           1  Pavement Resurface/restoration   \n",
      "445                     22nd St           1  Pavement Resurface/restoration   \n",
      "446                  7th St (S)           1  Pavement Resurface/restoration   \n",
      "447                  Cul De Sac           1  Pavement Resurface/restoration   \n",
      "448                        O St           1  Pavement Resurface/restoration   \n",
      "449                     13th St           1  Pavement Resurface/restoration   \n",
      "450                 Georgia Ave           2  Pavement Resurface/restoration   \n",
      "451                        G St           0      High Accident Intersection   \n",
      "452                      6th St           1  Pavement Resurface/restoration   \n",
      "453  Connecticut Ave  Jefferson           1  Pavement Resurface/restoration   \n",
      "454                  Cul De Sac           1  Pavement Resurface/restoration   \n",
      "455                        N St           1  Pavement Resurface/restoration   \n",
      "456        29th St  Garfield St           3           Street Light Projects   \n",
      "457           Cathedral Ave (E)           0           Street Light Projects   \n",
      "458                        C St           1           Street Light Projects   \n",
      "459               Maryland Line           5                       Upgrading   \n",
      "460             Connecticut Ave           1           Street Light Projects   \n",
      "461                 Chestnut St          19         Federal Aid Resurfacing   \n",
      "462                 Garfield St           1  Pavement Resurface/restoration   \n",
      "463                 Eastern Ave           2  Pavement Resurface/restoration   \n",
      "464                 Buchanan St           1  Pavement Resurface/restoration   \n",
      "\n",
      "     YEARBUDGETED  PERCENTCOMPLETED     STATUS  MILES      ...       \\\n",
      "0            2004               100  Completed   0.07      ...        \n",
      "1            1999               100  Completed   0.33      ...        \n",
      "2            2004               100  Completed   0.09      ...        \n",
      "3            2004               100  Completed   0.07      ...        \n",
      "4            2005               100  Completed   0.16      ...        \n",
      "5            2005               100  Completed   0.20      ...        \n",
      "6            2004               100  Completed   0.07      ...        \n",
      "7            2004               100  Completed   0.35      ...        \n",
      "8            2005               100  Completed   0.04      ...        \n",
      "9            1999               100  Completed   0.97      ...        \n",
      "10           2004               100  Completed   0.06      ...        \n",
      "11           2004               100  Completed   0.08      ...        \n",
      "12           2004               100  Completed   0.08      ...        \n",
      "13           2004               100  Completed   0.16      ...        \n",
      "14           1999               100  Completed   0.27      ...        \n",
      "15           2004               100  Completed   0.14      ...        \n",
      "16           2004               100  Completed   0.04      ...        \n",
      "17           2004               100  Completed   0.12      ...        \n",
      "18           2004               100  Completed   0.12      ...        \n",
      "19           2005               100  Completed   0.16      ...        \n",
      "20           2005               100  Completed   0.11      ...        \n",
      "21           2004               100  Completed   0.16      ...        \n",
      "22           1999               100  Completed   0.34      ...        \n",
      "23           2004               100  Completed   0.06      ...        \n",
      "24           2004               100  Completed   0.15      ...        \n",
      "25           2004               100  Completed   0.21      ...        \n",
      "26           2004               100  Completed   0.16      ...        \n",
      "27           2004               100  Completed   0.15      ...        \n",
      "28           2004               100  Completed   0.06      ...        \n",
      "29           2004               100  Completed   0.14      ...        \n",
      "..            ...               ...        ...    ...      ...        \n",
      "435          2004               100  Completed   0.07      ...        \n",
      "436          2004               100  Completed   0.04      ...        \n",
      "437          2004               100  Completed   0.52      ...        \n",
      "438          2004               100  Completed   0.05      ...        \n",
      "439          2004               100  Completed   0.68      ...        \n",
      "440          2004               100  Completed   0.00      ...        \n",
      "441          2004               100  Completed   0.08      ...        \n",
      "442             4               100  Completed   0.33      ...        \n",
      "443          2005               100  Completed   0.04      ...        \n",
      "444          2004               100  Completed   0.11      ...        \n",
      "445          2004               100  Completed   0.06      ...        \n",
      "446          2004               100  Completed   0.16      ...        \n",
      "447          2004               100  Completed   0.09      ...        \n",
      "448          2004               100  Completed   0.05      ...        \n",
      "449          2004               100  Completed   0.04      ...        \n",
      "450          2005               100  Completed   0.11      ...        \n",
      "451          2004               100  Completed   0.00      ...        \n",
      "452          2004               100  Completed   0.13      ...        \n",
      "453          2005               100  Completed   0.06      ...        \n",
      "454          2004               100  Completed   0.10      ...        \n",
      "455          2005               100  Completed   0.11      ...        \n",
      "456          2003               100  Completed   0.27      ...        \n",
      "457          2003               100  Completed   0.00      ...        \n",
      "458          2003               100  Completed   0.10      ...        \n",
      "459          2005               100  Completed   0.27      ...        \n",
      "460          2003               100  Completed   0.07      ...        \n",
      "461          2004               100  Completed   1.19      ...        \n",
      "462          2004               100  Completed   0.12      ...        \n",
      "463          2005               100  Completed   0.24      ...        \n",
      "464          2003               100  Completed   0.02      ...        \n",
      "\n",
      "           YCOORD   LATITUDE  LONGITUDE  \\\n",
      "0    143205.11981  38.956747 -77.029694   \n",
      "1    138468.90256  38.914085 -77.012411   \n",
      "2    139574.10659  38.924041 -76.987221   \n",
      "3    138132.90198  38.911046 -77.054077   \n",
      "4    139657.25318  38.924790 -76.985068   \n",
      "5    130948.25958  38.846337 -76.998463   \n",
      "6    144260.95520  38.966246 -77.061675   \n",
      "7    143680.41824  38.961016 -77.062994   \n",
      "8    144332.34858  38.966889 -77.061126   \n",
      "9    145993.53492  38.981864 -77.036344   \n",
      "10   141355.75200  38.940080 -77.052639   \n",
      "11   144524.25789  38.968631 -77.026720   \n",
      "12   145484.90736  38.977286 -77.023701   \n",
      "13   144523.71012  38.968616 -77.055131   \n",
      "14   143645.75015  38.960719 -77.018034   \n",
      "15   144575.76052  38.969098 -77.010335   \n",
      "16   138911.21635  38.918061 -77.045630   \n",
      "17   144049.46375  38.964357 -77.001779   \n",
      "18   144380.43626  38.967338 -77.005814   \n",
      "19   136373.00889  38.895188 -76.936314   \n",
      "20   131031.17766  38.847084 -77.003775   \n",
      "21   143576.29028  38.960067 -77.080944   \n",
      "22   143788.68656  38.962008 -77.002159   \n",
      "23   133852.11487  38.872496 -77.009900   \n",
      "24   137368.33245  38.904161 -77.050114   \n",
      "25   143966.17156  38.963592 -77.058648   \n",
      "26   144641.00247  38.969683 -77.025542   \n",
      "27   144904.92557  38.972048 -77.059057   \n",
      "28   139907.44198  38.927027 -77.063269   \n",
      "29   143174.30874  38.956455 -77.065420   \n",
      "..            ...        ...        ...   \n",
      "435  136662.79676  38.897815 -77.012040   \n",
      "436  135988.53001  38.891741 -76.983645   \n",
      "437  135773.18857  38.889796 -76.963257   \n",
      "438  141101.24934  38.937795 -76.970647   \n",
      "439  142828.69431  38.953360 -76.997760   \n",
      "440  130311.51001  38.840601 -76.993666   \n",
      "441  136989.68608  38.900760 -77.013111   \n",
      "442  138177.81094  38.911463 -76.988473   \n",
      "443  140800.56074  38.935084 -77.036751   \n",
      "444  141629.29443  38.942555 -76.984661   \n",
      "445  136161.74371  38.893300 -76.975688   \n",
      "446  134569.68537  38.878960 -76.997601   \n",
      "447  140870.01258  38.935710 -77.037453   \n",
      "448  137873.16505  38.908719 -77.004188   \n",
      "449  135850.45600  38.890497 -76.988605   \n",
      "450  145484.83613  38.977285 -77.025480   \n",
      "451  134852.81001  38.881492 -76.933040   \n",
      "452  135121.52451  38.883930 -77.018730   \n",
      "453  137578.57894  38.906058 -77.041683   \n",
      "454  143308.79120  38.957679 -77.037145   \n",
      "455  137620.63091  38.906441 -77.025983   \n",
      "456  139776.68682  38.925854 -77.055159   \n",
      "457  139708.16000  38.925239 -77.050146   \n",
      "458  135440.84902  38.886807 -77.015201   \n",
      "459  146987.84913  38.990821 -77.036322   \n",
      "460  139730.94291  38.925443 -77.052011   \n",
      "461  145110.29844  38.973893 -77.068950   \n",
      "462  139891.73363  38.926865 -77.093990   \n",
      "463  143983.75188  38.963765 -77.001975   \n",
      "464  142147.02707  38.947219 -77.008609   \n",
      "\n",
      "                                           PROJECTNOTE  \\\n",
      "0                                                  NaN   \n",
      "1                                                  NaN   \n",
      "2                                                  NaN   \n",
      "3                                  POKA-2003-B-0048-JJ   \n",
      "4                                                  NaN   \n",
      "5                                                  NaN   \n",
      "6                                                  NaN   \n",
      "7                                                  NaN   \n",
      "8                                                  NaN   \n",
      "9    Reconstruction of 16th St. from Alaska to Prim...   \n",
      "10                                                 NaN   \n",
      "11                                                 NaN   \n",
      "12                                                 NaN   \n",
      "13                                                 NaN   \n",
      "14                                                 NaN   \n",
      "15                                                 NaN   \n",
      "16                                 POKA-2003-B-0048-JJ   \n",
      "17                                                 NaN   \n",
      "18                                                 NaN   \n",
      "19                                                 NaN   \n",
      "20                                                 NaN   \n",
      "21                                                 NaN   \n",
      "22                                                 NaN   \n",
      "23                                                 NaN   \n",
      "24                                                 NaN   \n",
      "25                                                 NaN   \n",
      "26                                                 NaN   \n",
      "27                                                 NaN   \n",
      "28                                                 NaN   \n",
      "29                                                 NaN   \n",
      "..                                                 ...   \n",
      "435                                                NaN   \n",
      "436                                                NaN   \n",
      "437                                FY-04 per Sylvester   \n",
      "438                                                NaN   \n",
      "439    Per Berehager  construction will begin in FY-04   \n",
      "440                                                NaN   \n",
      "441                                                NaN   \n",
      "442                                                NaN   \n",
      "443                                POKA-2003-B-0048-JJ   \n",
      "444                                                NaN   \n",
      "445                                                NaN   \n",
      "446                                                NaN   \n",
      "447                                POKA-2003-B-0048-JJ   \n",
      "448                                                NaN   \n",
      "449                                                NaN   \n",
      "450                                                NaN   \n",
      "451                                                NaN   \n",
      "452                                POKA-2003-B-0048-JJ   \n",
      "453                                POKA-2004-B-0016-JJ   \n",
      "454                                                NaN   \n",
      "455                                                NaN   \n",
      "456                                                NaN   \n",
      "457                                                NaN   \n",
      "458                                                NaN   \n",
      "459                                                NaN   \n",
      "460                                                NaN   \n",
      "461                                                NaN   \n",
      "462                                   2nd Aid to State   \n",
      "463                                                NaN   \n",
      "464                                                NaN   \n",
      "\n",
      "                                           PROJECTNAME         PROJECTMGR  \\\n",
      "0                                               FedAid    Paul Stephenson   \n",
      "1                                                  NaN                NaN   \n",
      "2             Fedral Aid Citywide Pavement Restoration  Mohamed Abdullahi   \n",
      "3    Citywide Pavement Restoration Contract (Local ...    Maduabuchi Udeh   \n",
      "4                                                  NaN                NaN   \n",
      "5                                        CIP_2004-2009              FY-05   \n",
      "6                        Citywide Pavement Restoration    Paul Stephenson   \n",
      "7                                       FedAid_6YR_CIP    Paul Stephenson   \n",
      "8                         Citywide Pavement Restoratin    paul Stephenson   \n",
      "9    Recons of 16TH St. from Alaska to Prime Rose  ...   Eskender  Konjit   \n",
      "10                                                 NaN                NaN   \n",
      "11                       Citywide Pavement Restoration    Paul Stephenson   \n",
      "12                                                 NaN                NaN   \n",
      "13                                                 NaN                NaN   \n",
      "14                                                 NaN                NaN   \n",
      "15                       Citywidy Pavement Restoration    Paul Stephenson   \n",
      "16   Citywide Pavement Restoration Contract (Local ...    Maduabuchi Udeh   \n",
      "17                       Citywide Pavement Restoration    Paul Stephenson   \n",
      "18                       Citywide Pavement Restoration    Paul Stephenson   \n",
      "19   CITYWIDE PAVEMENT RESTORATION CONTRACT (LOCAL ...                NaN   \n",
      "20   CITYWIDE PAVEMENT RESTORATION CONTRACT (LOCAL ...                NaN   \n",
      "21                                                 NaN                NaN   \n",
      "22                       Citywide Pavement Restoration    Paul Stephenson   \n",
      "23                                                 NaN              FY-05   \n",
      "24                                                 NaN                NaN   \n",
      "25                                                 NaN                NaN   \n",
      "26                                                 NaN                NaN   \n",
      "27                       Citywide Pavement Restoration    Paul Stephenson   \n",
      "28                                                 NaN                NaN   \n",
      "29                                                 NaN                NaN   \n",
      "..                                                 ...                ...   \n",
      "435           Fedral Aid Citywide Pavement Restoration  Mohamed Abdullahi   \n",
      "436           Fedral Aid Citywide Pavement Restoration  Mohamed Abdullahi   \n",
      "437           Fedral Aid Citywide Pavement Restoration  Mohamed Abdullahi   \n",
      "438           Fedral Aid Citywide Pavement Restoration  Mohamed Abdullahi   \n",
      "439                                     FedAid_6YR_CIP  Abdullahi Mohamed   \n",
      "440                                                NaN    ELIJAH ROBINSON   \n",
      "441           Fedral Aid Citywide Pavement Restoration  Mohamed Abdullahi   \n",
      "442                   Street Resurfacing of Ward 5 & 6  Mohamed Abdullahi   \n",
      "443  Citywide Pavement Restoration Contract (Local ...    Maduabuchi Udeh   \n",
      "444           Fedral Aid Citywide Pavement Restoration  Mohamed Abdullahi   \n",
      "445           Fedral Aid Citywide Pavement Restoration  Mohamed Abdullahi   \n",
      "446           Fedral Aid Citywide Pavement Restoration  Mohamed Abdullahi   \n",
      "447  Citywide Pavement Restoration Contract (Local ...    Maduabuchi Udeh   \n",
      "448           Fedral Aid Citywide Pavement Restoration  Mohamed Abdullahi   \n",
      "449           Fedral Aid Citywide Pavement Restoration  Mohamed Abdullahi   \n",
      "450                      Citywide Pavement Restoration    Paul Stephenson   \n",
      "451                                                NaN                NaN   \n",
      "452  Citywide Pavement Restoration Contract (Local ...    Maduabuchi Udeh   \n",
      "453  Federal Aid City Wide Pavement Restoration Con...    Maduabuchi Udeh   \n",
      "454                      Citywidy Pavement Restoration    Paul Stephenson   \n",
      "455  Federal Aid City Wide Pavement Restoration Con...    Maduabuchi Udeh   \n",
      "456  StreetLight Series Circuit Conversion at 5 Loc...        Mike Dorsey   \n",
      "457  StreetLight Series Circuit Conversion at 5 Loc...        Mike Dorsey   \n",
      "458  StreetLight Series Circuit Conversion at 5 Loc...        Mike Dorsey   \n",
      "459                     Pavement Resurface Restoration    Paul Stephenson   \n",
      "460  StreetLight Series Circuit Conversion at 5 Loc...        Mike Dorsey   \n",
      "461                                     FedAid_6YR_CIP    Paul Stephenson   \n",
      "462                      Citywide Pavement Restoration     Paul Stphenson   \n",
      "463                                                NaN                NaN   \n",
      "464  Rehabilitation of N. Capitol St. from Michigan...    Konjit Eskender   \n",
      "\n",
      "     PROJECTID                TEAMREP                   EMAIL  CONTACTPHONE  \n",
      "0         5834                O. Hill                     NaN  202-671-4591  \n",
      "1         2467                    NaN                     NaN           NaN  \n",
      "2         5486           Said Cherifi     said.cherifi@dc.gov  202-671-4611  \n",
      "3         5796          Michael Jelen    Michael.Jelen@dc.gov  202-671-4542  \n",
      "4         8237                    NaN                     NaN           NaN  \n",
      "5         4175                    NaN                     NaN           NaN  \n",
      "6         5296  M. Howard and O. hill                     NaN  202-671-4591  \n",
      "7         4762                O. Hill                     NaN  202-671-4591  \n",
      "8         7867  M. Howard and O. Hill                     NaN  202-671-4591  \n",
      "9         2349          Porter Curtis    Porter.Curtis@Dc.gov  202-671-4581  \n",
      "10        2605                    NaN                     NaN           NaN  \n",
      "11        2620                    NaN                     NaN           NaN  \n",
      "12        2502                    NaN                     NaN           NaN  \n",
      "13        2474                    NaN                     NaN           NaN  \n",
      "14        2643                    NaN                     NaN           NaN  \n",
      "15        5879                 Rodney                     NaN  202-671-4591  \n",
      "16        3422          Michael Jelen    Michael.Jelen@dc.gov  202-671-4542  \n",
      "17        2621                    NaN                     NaN           NaN  \n",
      "18        2513                    NaN                     NaN  202-671-4594  \n",
      "19        7151                    NaN                     NaN           NaN  \n",
      "20        8740                    NaN                     NaN           NaN  \n",
      "21        2612                    NaN                     NaN           NaN  \n",
      "22        2645                    NaN                     NaN           NaN  \n",
      "23        5063                    NaN                     NaN           NaN  \n",
      "24        5215                    NaN                     NaN           NaN  \n",
      "25        2614                    NaN                     NaN           NaN  \n",
      "26        5299                    NaN                     NaN           NaN  \n",
      "27        2461              M. Howard                     NaN  202-671-4591  \n",
      "28        2466                    NaN                     NaN           NaN  \n",
      "29        2470                    NaN                     NaN           NaN  \n",
      "..         ...                    ...                     ...           ...  \n",
      "435       5668           Said Cherifi     said.cherifi@dc.gov  202-671-4611  \n",
      "436       5574           Said Cherifi     said.cherifi@dc.gov  202-671-4611  \n",
      "437       5142           Said Cherifi     said.cherifi@dc.gov  202-671-4611  \n",
      "438       5485           Said Cherifi     said.cherifi@dc.gov  202-671-4611  \n",
      "439       4769          MORGAN PRINCE    morgan.prince@dc.gov  202-671-4627  \n",
      "440       6058                    NaN                     NaN  202.671.2829  \n",
      "441       5670           Said Cherifi     said.cherifi@dc.gov  202-671-4611  \n",
      "442       8603           Said Cherifi     said.cherifi@dc.gov  202-671-4611  \n",
      "443       5034          Michael Jelen    Michael.Jelen@dc.gov  202-671-4542  \n",
      "444       5480           Said Cherifi     said.cherifi@dc.gov  202-671-4611  \n",
      "445       5675           Said Cherifi     said.cherifi@dc.gov  202-671-4611  \n",
      "446       5674           Said Cherifi     said.cherifi@dc.gov  202-671-4611  \n",
      "447       2810          Michael Jelen    Michael.Jelen@dc.gov  202-671-4542  \n",
      "448       5503           Said Cherifi     said.cherifi@dc.gov  202-671-4611  \n",
      "449       5671           Said Cherifi     said.cherifi@dc.gov  202-671-4611  \n",
      "450       6858           Rodney Olive                     NaN  202-671-4591  \n",
      "451       5394                    NaN                     NaN           NaN  \n",
      "452       4496          Michael Jelen    Michael.Jelen@dc.gov  202-671-4542  \n",
      "453       7624          Michael Jelen    Michael.Jelen@dc.gov  202-671-4542  \n",
      "454       3572               Deguzman                     NaN  202-671-4591  \n",
      "455       7577          Michael Jelen    Michael.Jelen@dc.gov  202-671-4542  \n",
      "456       8704            Mike Dorsey                     NaN           NaN  \n",
      "457       8702                    NaN                     NaN           NaN  \n",
      "458       8713            Mike Dorsey                     NaN           NaN  \n",
      "459       6372          Porter Curtis                     NaN  202-671-4581  \n",
      "460       8703            Mike Dorsey                     NaN           NaN  \n",
      "461       2732           Lennox Bruce      Lennoxbruce@dc.gov  (202)-671-45  \n",
      "462       3948               Deguzman                     NaN  202-671-4591  \n",
      "463       2642                    NaN                     NaN           NaN  \n",
      "464       8543        Stanley Freeman  Stanley.Freeman@dc.gov  202-234-1458  \n",
      "\n",
      "[465 rows x 27 columns]\n"
     ]
    }
   ],
   "source": [
    "import pandas as pd\n",
    "data=pd.read_csv('./data/ccp_current_csv.csv' )\n",
    "print(data)"
   ]
  },
  {
   "cell_type": "markdown",
   "metadata": {},
   "source": [
    "### 3.1.a  what is its shape and what does that mean?"
   ]
  },
  {
   "cell_type": "code",
   "execution_count": 28,
   "metadata": {},
   "outputs": [
    {
     "data": {
      "text/plain": [
       "(465, 27)"
      ]
     },
     "execution_count": 28,
     "metadata": {},
     "output_type": "execute_result"
    }
   ],
   "source": [
    "data.shape"
   ]
  },
  {
   "cell_type": "markdown",
   "metadata": {},
   "source": [
    "## Homework 3.2\n",
    " What are the number of rows in each 'QUADRANT' ?"
   ]
  },
  {
   "cell_type": "code",
   "execution_count": 30,
   "metadata": {},
   "outputs": [
    {
     "data": {
      "text/plain": [
       "<bound method Series.value_counts of 0      NW\n",
       "1      NW\n",
       "2      NE\n",
       "3      NW\n",
       "4      NE\n",
       "5      SE\n",
       "6      NW\n",
       "7      NW\n",
       "8      NW\n",
       "9      NW\n",
       "10     NW\n",
       "11     NW\n",
       "12     NW\n",
       "13     NW\n",
       "14     NW\n",
       "15     NW\n",
       "16     NW\n",
       "17     NE\n",
       "18     NE\n",
       "19     NE\n",
       "20     SE\n",
       "21     NW\n",
       "22     NE\n",
       "23     SW\n",
       "24     NW\n",
       "25     NW\n",
       "26     NW\n",
       "27     NW\n",
       "28     NW\n",
       "29     NW\n",
       "       ..\n",
       "435    NW\n",
       "436    NE\n",
       "437    BN\n",
       "438    NE\n",
       "439    NE\n",
       "440    SE\n",
       "441    NW\n",
       "442    NE\n",
       "443    NW\n",
       "444    NE\n",
       "445    NE\n",
       "446    SE\n",
       "447    NW\n",
       "448    NE\n",
       "449    NE\n",
       "450    NW\n",
       "451    SE\n",
       "452    SW\n",
       "453    NW\n",
       "454    NW\n",
       "455    NW\n",
       "456    NW\n",
       "457    NW\n",
       "458    SW\n",
       "459    NW\n",
       "460    NW\n",
       "461    NW\n",
       "462    NW\n",
       "463    NE\n",
       "464    BN\n",
       "Name: QUADRANT, Length: 465, dtype: object>"
      ]
     },
     "execution_count": 30,
     "metadata": {},
     "output_type": "execute_result"
    }
   ],
   "source": [
    "data['QUADRANT'].value_counts\n",
    " "
   ]
  },
  {
   "cell_type": "markdown",
   "metadata": {},
   "source": [
    "## Homework 3.3 - Array math demonstration \n",
    "For two arrarys  \n",
    "\n",
    "a= [1,2,3,4]  type=float\n",
    "\n",
    "b= [5,6,7,8]  type=float\n",
    "\n",
    "Peform the following array operations using numpy   \n",
    "( show both operational use of numpy and functional (example addition operation => + vs addition function => numbpy.add() )\n"
   ]
  },
  {
   "cell_type": "markdown",
   "metadata": {},
   "source": [
    "# FUNCTIONAL USE"
   ]
  },
  {
   "cell_type": "markdown",
   "metadata": {},
   "source": [
    "### 3.3.1 addition a+b "
   ]
  },
  {
   "cell_type": "code",
   "execution_count": 10,
   "metadata": {},
   "outputs": [
    {
     "data": {
      "text/plain": [
       "array([  6.,   8.,  10.,  12.])"
      ]
     },
     "execution_count": 10,
     "metadata": {},
     "output_type": "execute_result"
    }
   ],
   "source": [
    "import numpy as np\n",
    "a= np.array ([1,2,3,4],dtype=float)\n",
    "b= np.array ([5,6,7,8],dtype=float)\n",
    "np.add(a,b)"
   ]
  },
  {
   "cell_type": "markdown",
   "metadata": {},
   "source": [
    "### 3.3.2 subtraction a-b"
   ]
  },
  {
   "cell_type": "code",
   "execution_count": 31,
   "metadata": {},
   "outputs": [
    {
     "data": {
      "text/plain": [
       "array([-4., -4., -4., -4.])"
      ]
     },
     "execution_count": 31,
     "metadata": {},
     "output_type": "execute_result"
    }
   ],
   "source": [
    "np.subtract(a,b)"
   ]
  },
  {
   "cell_type": "markdown",
   "metadata": {},
   "source": [
    "### 3.3.3 multiplication a*b"
   ]
  },
  {
   "cell_type": "code",
   "execution_count": 32,
   "metadata": {},
   "outputs": [
    {
     "data": {
      "text/plain": [
       "array([  5.,  12.,  21.,  32.])"
      ]
     },
     "execution_count": 32,
     "metadata": {},
     "output_type": "execute_result"
    }
   ],
   "source": [
    "np.multiply(a,b)"
   ]
  },
  {
   "cell_type": "markdown",
   "metadata": {},
   "source": [
    "### 3.3.4 divsion a/b"
   ]
  },
  {
   "cell_type": "code",
   "execution_count": 17,
   "metadata": {},
   "outputs": [
    {
     "data": {
      "text/plain": [
       "array([ 0.2       ,  0.33333333,  0.42857143,  0.5       ])"
      ]
     },
     "execution_count": 17,
     "metadata": {},
     "output_type": "execute_result"
    }
   ],
   "source": [
    "np.divide(a,b)"
   ]
  },
  {
   "cell_type": "markdown",
   "metadata": {},
   "source": [
    "### 3.3.5 modulo  a%b"
   ]
  },
  {
   "cell_type": "code",
   "execution_count": 33,
   "metadata": {},
   "outputs": [
    {
     "data": {
      "text/plain": [
       "array([ 1.,  2.,  3.,  4.])"
      ]
     },
     "execution_count": 33,
     "metadata": {},
     "output_type": "execute_result"
    }
   ],
   "source": [
    "np.mod(a,b)"
   ]
  },
  {
   "cell_type": "markdown",
   "metadata": {},
   "source": [
    "### 3.3.6 power  a^b"
   ]
  },
  {
   "cell_type": "code",
   "execution_count": 21,
   "metadata": {},
   "outputs": [
    {
     "data": {
      "text/plain": [
       "array([  1.00000000e+00,   6.40000000e+01,   2.18700000e+03,\n",
       "         6.55360000e+04])"
      ]
     },
     "execution_count": 21,
     "metadata": {},
     "output_type": "execute_result"
    }
   ],
   "source": [
    "np.power(a,b)"
   ]
  },
  {
   "cell_type": "markdown",
   "metadata": {},
   "source": [
    "# OPERATIONAL USE"
   ]
  },
  {
   "cell_type": "code",
   "execution_count": 34,
   "metadata": {},
   "outputs": [
    {
     "data": {
      "text/plain": [
       "array([  6.,   8.,  10.,  12.])"
      ]
     },
     "execution_count": 34,
     "metadata": {},
     "output_type": "execute_result"
    }
   ],
   "source": [
    "a+b#3.3.1 addition a+b"
   ]
  },
  {
   "cell_type": "code",
   "execution_count": 35,
   "metadata": {},
   "outputs": [
    {
     "data": {
      "text/plain": [
       "array([-4., -4., -4., -4.])"
      ]
     },
     "execution_count": 35,
     "metadata": {},
     "output_type": "execute_result"
    }
   ],
   "source": [
    "a-b#3.3.2 subtraction a-b"
   ]
  },
  {
   "cell_type": "code",
   "execution_count": 36,
   "metadata": {},
   "outputs": [
    {
     "data": {
      "text/plain": [
       "array([  5.,  12.,  21.,  32.])"
      ]
     },
     "execution_count": 36,
     "metadata": {},
     "output_type": "execute_result"
    }
   ],
   "source": [
    "a*b#3.3.3 multiplication a*b"
   ]
  },
  {
   "cell_type": "code",
   "execution_count": 41,
   "metadata": {},
   "outputs": [
    {
     "data": {
      "text/plain": [
       "array([ 0.2       ,  0.33333333,  0.42857143,  0.5       ])"
      ]
     },
     "execution_count": 41,
     "metadata": {},
     "output_type": "execute_result"
    }
   ],
   "source": [
    "a/b# 3.3.4 divsion a/b"
   ]
  },
  {
   "cell_type": "code",
   "execution_count": 38,
   "metadata": {},
   "outputs": [
    {
     "data": {
      "text/plain": [
       "array([ 1.,  2.,  3.,  4.])"
      ]
     },
     "execution_count": 38,
     "metadata": {},
     "output_type": "execute_result"
    }
   ],
   "source": [
    "a%b#3.3.5 modulo a%b"
   ]
  },
  {
   "cell_type": "code",
   "execution_count": 40,
   "metadata": {},
   "outputs": [
    {
     "data": {
      "text/plain": [
       "array([  1.00000000e+00,   6.40000000e+01,   2.18700000e+03,\n",
       "         6.55360000e+04])"
      ]
     },
     "execution_count": 40,
     "metadata": {},
     "output_type": "execute_result"
    }
   ],
   "source": [
    "a**b#3.3.6 power a^b"
   ]
  },
  {
   "cell_type": "markdown",
   "metadata": {},
   "source": [
    "## Homework 3.4\n",
    "Find your own data and load it into a dataframe"
   ]
  },
  {
   "cell_type": "code",
   "execution_count": null,
   "metadata": {
    "collapsed": true
   },
   "outputs": [],
   "source": []
  },
  {
   "cell_type": "markdown",
   "metadata": {},
   "source": [
    "## Homework 3.5\n",
    "Provide an interesting analysis of the data columns ( frequency or averages )"
   ]
  },
  {
   "cell_type": "code",
   "execution_count": null,
   "metadata": {
    "collapsed": true
   },
   "outputs": [],
   "source": []
  },
  {
   "cell_type": "code",
   "execution_count": null,
   "metadata": {
    "collapsed": true
   },
   "outputs": [],
   "source": []
  },
  {
   "cell_type": "code",
   "execution_count": null,
   "metadata": {
    "collapsed": true
   },
   "outputs": [],
   "source": []
  },
  {
   "cell_type": "code",
   "execution_count": null,
   "metadata": {
    "collapsed": true
   },
   "outputs": [],
   "source": []
  },
  {
   "cell_type": "code",
   "execution_count": null,
   "metadata": {
    "collapsed": true
   },
   "outputs": [],
   "source": []
  }
 ],
 "metadata": {
  "kernelspec": {
   "display_name": "Python 2",
   "language": "python",
   "name": "python2"
  },
  "language_info": {
   "codemirror_mode": {
    "name": "ipython",
    "version": 2
   },
   "file_extension": ".py",
   "mimetype": "text/x-python",
   "name": "python",
   "nbconvert_exporter": "python",
   "pygments_lexer": "ipython2",
   "version": "2.7.13"
  }
 },
 "nbformat": 4,
 "nbformat_minor": 1
}
