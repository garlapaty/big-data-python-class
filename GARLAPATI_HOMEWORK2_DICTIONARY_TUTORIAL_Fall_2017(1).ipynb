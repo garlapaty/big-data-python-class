{
 "cells": [
  {
   "cell_type": "markdown",
   "metadata": {},
   "source": [
    "# CREATION OF DICTIONARIES :"
   ]
  },
  {
   "cell_type": "markdown",
   "metadata": {},
   "source": [
    "Dictonaries are indexed by keys can be any immutable types. The values of it may be of any type. They allow lookup  speed, and have been heavily optimized for memory overhead and lookup speed efficiency.\n"
   ]
  },
  {
   "cell_type": "markdown",
   "metadata": {},
   "source": [
    "# Dictionary literals"
   ]
  },
  {
   "cell_type": "markdown",
   "metadata": {},
   "source": [
    "The most commonly used way of constructing a python dictionary is with curly bracket."
   ]
  },
  {
   "cell_type": "markdown",
   "metadata": {},
   "source": [
    "# Syntax:\n",
    "d = {\"key\":value}"
   ]
  },
  {
   "cell_type": "markdown",
   "metadata": {},
   "source": [
    "# NOTE : \n",
    "    As dictionaries are mutable, you need not know all the entries in advance. EMPTY DICTONARY: d = {}"
   ]
  },
  {
   "cell_type": "markdown",
   "metadata": {},
   "source": [
    "# Fill in the entries one by one"
   ]
  },
  {
   "cell_type": "code",
   "execution_count": 16,
   "metadata": {},
   "outputs": [
    {
     "name": "stdout",
     "output_type": "stream",
     "text": [
      "{'name': 'Karthik'}\n"
     ]
    }
   ],
   "source": [
    "d[\"name\"] = \"Karthik\"\n",
    "print d"
   ]
  },
  {
   "cell_type": "markdown",
   "metadata": {
    "collapsed": true
   },
   "source": [
    "# From a list of tuples"
   ]
  },
  {
   "cell_type": "code",
   "execution_count": 2,
   "metadata": {},
   "outputs": [
    {
     "name": "stdout",
     "output_type": "stream",
     "text": [
      "{'name': 'SUPPU'}\n"
     ]
    }
   ],
   "source": [
    "d = dict([(\"name\", \"SUPPU\")])\n",
    "print d"
   ]
  },
  {
   "cell_type": "markdown",
   "metadata": {},
   "source": [
    "# From two parallel lists"
   ]
  },
  {
   "cell_type": "code",
   "execution_count": 3,
   "metadata": {},
   "outputs": [
    {
     "name": "stdout",
     "output_type": "stream",
     "text": [
      "['Suppu', 'Alex', 'Kalyani']\n",
      "['Graduate', 'Engineer', 'Student']\n"
     ]
    }
   ],
   "source": [
    "names = [\"Suppu\", \"Alex\", \"Kalyani\"]\n",
    "professions = [\"Graduate\", \"Engineer\", \"Student\"]\n",
    "print names\n",
    "print professions"
   ]
  },
  {
   "cell_type": "markdown",
   "metadata": {},
   "source": [
    "# ACCESSING VALUES :"
   ]
  },
  {
   "cell_type": "markdown",
   "metadata": {},
   "source": [
    "   The key is used with in the square brackets to obtain the values."
   ]
  },
  {
   "cell_type": "markdown",
   "metadata": {},
   "source": [
    "EXAMPLE :"
   ]
  },
  {
   "cell_type": "code",
   "execution_count": 14,
   "metadata": {},
   "outputs": [
    {
     "name": "stdout",
     "output_type": "stream",
     "text": [
      "dict['Name']:  SUPPU\n",
      "dict['Age']:  22\n",
      "dict['Sex']:  Female\n"
     ]
    }
   ],
   "source": [
    "dict = {'Name': 'SUPPU', 'Age': 22, 'Sex': 'Female'}\n",
    "print \"dict['Name']: \", dict['Name']\n",
    "print \"dict['Age']: \", dict['Age']\n",
    "print \"dict['Sex']: \", dict['Sex']\n"
   ]
  },
  {
   "cell_type": "markdown",
   "metadata": {},
   "source": [
    "# UPDATING DICTONARY ELEMENTS"
   ]
  },
  {
   "cell_type": "markdown",
   "metadata": {},
   "source": [
    "We can update a dictonary by adding a new entry to it and madify it.\n",
    "EXAMPLE :"
   ]
  },
  {
   "cell_type": "code",
   "execution_count": 13,
   "metadata": {},
   "outputs": [
    {
     "name": "stdout",
     "output_type": "stream",
     "text": [
      "dict['Age']:  22\n",
      "dict['Nature']:  Kind\n"
     ]
    }
   ],
   "source": [
    "dict = {'Name': 'Suppu', 'Age': 21, 'Nature': 'Good'}\n",
    "dict['Age'] = 22; # update existing entry\n",
    "dict['Nature'] = \"Kind\"; # Add new entry\n",
    "print \"dict['Age']: \", dict['Age']\n",
    "print \"dict['Nature']: \", dict['Nature']"
   ]
  },
  {
   "cell_type": "markdown",
   "metadata": {},
   "source": [
    "# DELETING DICTONARY ELEMENTS :"
   ]
  },
  {
   "cell_type": "markdown",
   "metadata": {},
   "source": [
    "We can remove the individual element or the entire contents of a dictonary and also can delete the entire dictonary. The key word to perform the deletion is 'del' \n",
    "\n",
    "EXAMPLE :"
   ]
  },
  {
   "cell_type": "code",
   "execution_count": 10,
   "metadata": {},
   "outputs": [
    {
     "name": "stdout",
     "output_type": "stream",
     "text": [
      "{'Age': 21, 'Sex': 'Female'}\n"
     ]
    }
   ],
   "source": [
    "dict = {'Name': 'Suppu', 'Age': 21, 'Sex': 'Female'}\n",
    "del dict['Name'] # remove entry with key 'Name'\n",
    "print dict"
   ]
  },
  {
   "cell_type": "code",
   "execution_count": 11,
   "metadata": {},
   "outputs": [
    {
     "name": "stdout",
     "output_type": "stream",
     "text": [
      "{}\n"
     ]
    }
   ],
   "source": [
    "dict = {'Name': 'Zara', 'Age': 7, 'Class': 'First'}\n",
    "dict.clear()   # remove all entries in dict\n",
    "print dict\n"
   ]
  },
  {
   "cell_type": "code",
   "execution_count": 12,
   "metadata": {
    "scrolled": true
   },
   "outputs": [
    {
     "name": "stdout",
     "output_type": "stream",
     "text": [
      "<type 'dict'>\n"
     ]
    }
   ],
   "source": [
    "dict = {'Name': 'Zara', 'Age': 7, 'Class': 'First'}\n",
    "del dict      # delete entire dictionary\n",
    "print dict\n"
   ]
  },
  {
   "cell_type": "markdown",
   "metadata": {},
   "source": [
    "# MERGING DICTONARIES :"
   ]
  },
  {
   "cell_type": "markdown",
   "metadata": {},
   "source": [
    "# 1. Using UPDATE Method :\n",
    "     By this the second dictonary gets merged with the first one and the update method would return none.\n",
    "EXAMPLE :"
   ]
  },
  {
   "cell_type": "code",
   "execution_count": 8,
   "metadata": {},
   "outputs": [
    {
     "name": "stdout",
     "output_type": "stream",
     "text": [
      "{'name': 'Orange', 'suppliment': 'Vitamin C', 'taste': 'Sweet', 'colour': 'Green'}\n"
     ]
    }
   ],
   "source": [
    "fruits = {'name':'Mango', 'colour': 'Yellow', 'suppliment': 'Vitamin C'}\n",
    "favourite = {'name':'Orange', 'colour': 'Green', 'taste': 'Sweet'}\n",
    "fruits.update(favourite)\n",
    "print fruits "
   ]
  },
  {
   "cell_type": "markdown",
   "metadata": {},
   "source": [
    "# 2. Using dict Constructor :\n",
    "      Two dictonaries get merged with each other and stored in the newer dictonary. The older dictonaries will be remained unchanged."
   ]
  },
  {
   "cell_type": "markdown",
   "metadata": {},
   "source": [
    "EXAMPLE :"
   ]
  },
  {
   "cell_type": "code",
   "execution_count": 5,
   "metadata": {},
   "outputs": [
    {
     "name": "stdout",
     "output_type": "stream",
     "text": [
      "{'taste': 'Sweet', 'colour': 'Green', 'name': 'Orange', 'suppliment': 'Vitamin C'}\n"
     ]
    }
   ],
   "source": [
    "fruits = {'name':'name', 'colour': 'colour', 'suppliment': 'Vitamin C'}\n",
    "favourite = {'name':'Orange', 'colour': 'Green', 'taste': 'Sweet'}\n",
    "favfruit=dict(fruits.items()+favourite.items())\n",
    "print favfruit\n"
   ]
  },
  {
   "cell_type": "markdown",
   "metadata": {
    "collapsed": true
   },
   "source": [
    "# LOOP OVER "
   ]
  },
  {
   "cell_type": "markdown",
   "metadata": {},
   "source": [
    "Dictionaries are not meant to preserve order and hence can use sorting. Only Lists are in order."
   ]
  },
  {
   "cell_type": "code",
   "execution_count": 47,
   "metadata": {},
   "outputs": [
    {
     "name": "stdout",
     "output_type": "stream",
     "text": [
      "y 6\n",
      "x 4\n",
      "z 0\n"
     ]
    }
   ],
   "source": [
    "d = {'x': 4, 'y': 6, 'z': 0}\n",
    "for key in d:\n",
    "    print key, str(d[key])"
   ]
  },
  {
   "cell_type": "markdown",
   "metadata": {},
   "source": [
    "Use of SORTING :"
   ]
  },
  {
   "cell_type": "code",
   "execution_count": 48,
   "metadata": {},
   "outputs": [
    {
     "name": "stdout",
     "output_type": "stream",
     "text": [
      "x 4\n",
      "y 6\n",
      "z 0\n"
     ]
    }
   ],
   "source": [
    "d = {'x': 4, 'y': 6, 'z': 0}\n",
    "for key in sorted(d):\n",
    "     print key, d[key]"
   ]
  },
  {
   "cell_type": "markdown",
   "metadata": {},
   "source": [
    "# KEYS :\n",
    "Only one entry per key is allowed and when key duplication is done the last assignment gets printed.\n"
   ]
  },
  {
   "cell_type": "code",
   "execution_count": 49,
   "metadata": {},
   "outputs": [
    {
     "name": "stdout",
     "output_type": "stream",
     "text": [
      "dict['Orange']: Sour\n",
      "dict['Mango']: Sweet\n",
      "dict['Apple']: Juicy\n"
     ]
    }
   ],
   "source": [
    "dict={'Orange': 'Sour','Mango' : 'Sweet', 'Apple' : 'Juicy'}\n",
    "print \"dict['Orange']:\",dict['Orange']\n",
    "print \"dict['Mango']:\",dict['Mango']\n",
    "print \"dict['Apple']:\",dict['Apple']\n"
   ]
  },
  {
   "cell_type": "markdown",
   "metadata": {},
   "source": [
    "These must be immutable.Else we may encounter an error."
   ]
  },
  {
   "cell_type": "code",
   "execution_count": 50,
   "metadata": {},
   "outputs": [
    {
     "name": "stdout",
     "output_type": "stream",
     "text": [
      "dict['Orange']:"
     ]
    },
    {
     "ename": "KeyError",
     "evalue": "'Orange'",
     "output_type": "error",
     "traceback": [
      "\u001b[1;31m\u001b[0m",
      "\u001b[1;31mKeyError\u001b[0mTraceback (most recent call last)",
      "\u001b[1;32m<ipython-input-50-c3dbc59e4c8b>\u001b[0m in \u001b[0;36m<module>\u001b[1;34m()\u001b[0m\n\u001b[0;32m      1\u001b[0m \u001b[0mdict\u001b[0m\u001b[1;33m=\u001b[0m\u001b[1;33m{\u001b[0m\u001b[1;34m'[Orange]'\u001b[0m\u001b[1;33m:\u001b[0m \u001b[1;34m'Sour'\u001b[0m\u001b[1;33m,\u001b[0m\u001b[1;34m'Mango'\u001b[0m \u001b[1;33m:\u001b[0m \u001b[1;34m'Sweet'\u001b[0m\u001b[1;33m,\u001b[0m \u001b[1;34m'Apple'\u001b[0m \u001b[1;33m:\u001b[0m \u001b[1;34m'Juicy'\u001b[0m\u001b[1;33m}\u001b[0m\u001b[1;33m\u001b[0m\u001b[0m\n\u001b[1;32m----> 2\u001b[1;33m \u001b[1;32mprint\u001b[0m \u001b[1;34m\"dict['Orange']:\"\u001b[0m\u001b[1;33m,\u001b[0m\u001b[0mdict\u001b[0m\u001b[1;33m[\u001b[0m\u001b[1;34m'Orange'\u001b[0m\u001b[1;33m]\u001b[0m\u001b[1;33m\u001b[0m\u001b[0m\n\u001b[0m\u001b[0;32m      3\u001b[0m \u001b[1;32mprint\u001b[0m \u001b[1;34m\"dict['Mango']:\"\u001b[0m\u001b[1;33m,\u001b[0m\u001b[0mdict\u001b[0m\u001b[1;33m[\u001b[0m\u001b[1;34m'Mango'\u001b[0m\u001b[1;33m]\u001b[0m\u001b[1;33m\u001b[0m\u001b[0m\n\u001b[0;32m      4\u001b[0m \u001b[1;32mprint\u001b[0m \u001b[1;34m\"dict['Apple']:\"\u001b[0m\u001b[1;33m,\u001b[0m\u001b[0mdict\u001b[0m\u001b[1;33m[\u001b[0m\u001b[1;34m'Apple'\u001b[0m\u001b[1;33m]\u001b[0m\u001b[1;33m\u001b[0m\u001b[0m\n",
      "\u001b[1;31mKeyError\u001b[0m: 'Orange'"
     ]
    }
   ],
   "source": [
    "dict={'[Orange]': 'Sour','Mango' : 'Sweet', 'Apple' : 'Juicy'}\n",
    "print \"dict['Orange']:\",dict['Orange']\n",
    "print \"dict['Mango']:\",dict['Mango']\n",
    "print \"dict['Apple']:\",dict['Apple']\n"
   ]
  },
  {
   "cell_type": "markdown",
   "metadata": {},
   "source": [
    "# VALUES :\n",
    "Only the values of the keys are printed."
   ]
  },
  {
   "cell_type": "code",
   "execution_count": null,
   "metadata": {
    "collapsed": true
   },
   "outputs": [],
   "source": [
    "dict ={'Orange': 'Sour','Mango' : 'Sweet', 'Apple' : 'Juicy'}\n",
    "dict.values()"
   ]
  },
  {
   "cell_type": "markdown",
   "metadata": {},
   "source": [
    "# ITEMS :\n",
    "Both the values and keys are being printed."
   ]
  },
  {
   "cell_type": "code",
   "execution_count": 32,
   "metadata": {},
   "outputs": [
    {
     "data": {
      "text/plain": [
       "[('Orange', 'Sour'), ('Mango', 'Sweet'), ('Apple', 'Juicy')]"
      ]
     },
     "execution_count": 32,
     "metadata": {},
     "output_type": "execute_result"
    }
   ],
   "source": [
    "dict ={'Orange': 'Sour','Mango' : 'Sweet', 'Apple' : 'Juicy'}\n",
    "dict.items()"
   ]
  },
  {
   "cell_type": "markdown",
   "metadata": {
    "collapsed": true
   },
   "source": [
    "# SOURCES :\n",
    "https://docs.python.org/2/tutorial/datastructures.html#dictionaries\n",
    "https://developmentality.wordpress.com/2012/03/30/three-ways-of-creating-dictionaries-in-python/\n",
    "http://blog.revathskumar.com/2011/10/python-merge-dictionaries.html\n",
    "https://www.codecademy.com/en/forum_questions/52b766909c4e9dcf510032bb\n",
    "https://stackoverflow.com/questions/16228248/python-simplest-way-to-get-list-of-values-from-dict\n",
    "https://www.tutorialspoint.com/python/dictionary_values.htm\n",
    "https://www.programiz.com/python-programming/methods/dictionary/values\n",
    "https://www.programiz.com/python-programming/methods/dictionary/items\n",
    "https://www.tutorialspoint.com/python/python_dictionary.htm"
   ]
  }
 ],
 "metadata": {
  "kernelspec": {
   "display_name": "Python 2",
   "language": "python",
   "name": "python2"
  },
  "language_info": {
   "codemirror_mode": {
    "name": "ipython",
    "version": 2
   },
   "file_extension": ".py",
   "mimetype": "text/x-python",
   "name": "python",
   "nbconvert_exporter": "python",
   "pygments_lexer": "ipython2",
   "version": "2.7.13"
  }
 },
 "nbformat": 4,
 "nbformat_minor": 2
}
